{
 "cells": [
  {
   "cell_type": "code",
   "execution_count": 1,
   "metadata": {},
   "outputs": [],
   "source": [
    "import numpy as np\n",
    "import matplotlib.pyplot as plt\n",
    "import seaborn as sns\n",
    "import torch\n",
    "import ttpp\n",
    "\n",
    "sns.set_style('whitegrid')\n",
    "\n",
    "%matplotlib inline"
   ]
  },
  {
   "cell_type": "code",
   "execution_count": 2,
   "metadata": {},
   "outputs": [],
   "source": [
    "def bench_training(model, batch_size, seq_length, n_samples=110):\n",
    "    start = torch.cuda.Event(enable_timing=True)\n",
    "    end = torch.cuda.Event(enable_timing=True)\n",
    "    timings = []\n",
    "    \n",
    "    device = next(model.parameters()).data.device\n",
    "    data = torch.rand(batch_size, seq_length, 1, device=device).cumsum(-1)\n",
    "    mask = torch.ones_like(data)\n",
    "        \n",
    "    for _ in range(n_samples):\n",
    "        start.record()\n",
    "        nll = -model.log_prob(data, mask).mean()/seq_length\n",
    "        end.record()\n",
    "        torch.cuda.synchronize()\n",
    "        timings.append(start.elapsed_time(end))\n",
    "    del data\n",
    "    del mask\n",
    "    return np.array(timings)\n",
    "\n",
    "def bench_sampling(model, batch_size, seq_length, n_samples=110):\n",
    "    start = torch.cuda.Event(enable_timing=True)\n",
    "    end = torch.cuda.Event(enable_timing=True)\n",
    "    timings = []\n",
    "    \n",
    "    device = next(model.parameters()).data.device\n",
    "    with torch.no_grad():\n",
    "        for _ in range(n_samples):\n",
    "            start.record()\n",
    "            samples = model.rsample_n(batch_size, seq_length)\n",
    "            end.record()\n",
    "            torch.cuda.synchronize()\n",
    "            timings.append(start.elapsed_time(end))\n",
    "            del samples\n",
    "    return np.array(timings)"
   ]
  },
  {
   "cell_type": "code",
   "execution_count": 3,
   "metadata": {},
   "outputs": [],
   "source": [
    "config = {    \n",
    "    'n_knots': 20,\n",
    "    'n_splines': 1,\n",
    "    'spline_order': 2,\n",
    "    'use_jit': False,\n",
    "    \n",
    "    # For the TriTPP model\n",
    "    'block_size': 16,\n",
    "    'n_blocks': 4,\n",
    "    \n",
    "    # For the RNN model\n",
    "    'hidden_size': 32,\n",
    "}"
   ]
  },
  {
   "cell_type": "code",
   "execution_count": 4,
   "metadata": {},
   "outputs": [],
   "source": [
    "batch_size = 100"
   ]
  },
  {
   "cell_type": "code",
   "execution_count": 5,
   "metadata": {},
   "outputs": [
    {
     "name": "stdout",
     "output_type": "stream",
     "text": [
      "TriTPP, seq_length =   25: train_time = 11.42ms, sampling_time = 31.50ms\n",
      "TriTPP, seq_length =   50: train_time = 9.79ms, sampling_time = 29.42ms\n",
      "TriTPP, seq_length =  100: train_time = 9.80ms, sampling_time = 28.95ms\n",
      "TriTPP, seq_length =  200: train_time = 9.86ms, sampling_time = 29.74ms\n",
      "TriTPP, seq_length =  400: train_time = 9.88ms, sampling_time = 29.19ms\n",
      "TriTPP, seq_length =  800: train_time = 10.03ms, sampling_time = 29.21ms\n",
      "TriTPP, seq_length = 1600: train_time = 10.64ms, sampling_time = 29.96ms\n",
      "Autoregressive, seq_length =   25: train_time = 3.81ms, sampling_time = 48.93ms\n",
      "Autoregressive, seq_length =   50: train_time = 4.02ms, sampling_time = 97.20ms\n",
      "Autoregressive, seq_length =  100: train_time = 4.63ms, sampling_time = 194.24ms\n",
      "Autoregressive, seq_length =  200: train_time = 5.75ms, sampling_time = 389.21ms\n",
      "Autoregressive, seq_length =  400: train_time = 8.09ms, sampling_time = 777.97ms\n",
      "Autoregressive, seq_length =  800: train_time = 12.96ms, sampling_time = 1549.42ms\n",
      "Autoregressive, seq_length = 1600: train_time = 22.54ms, sampling_time = 3098.62ms\n"
     ]
    }
   ],
   "source": [
    "train_results = dict()\n",
    "sampling_results = dict()\n",
    "lengths_list = [25, 50, 100, 200, 400, 800, 1600]\n",
    "for model_type in ['TriTPP', 'Autoregressive']:\n",
    "    model = getattr(ttpp.models, model_type)(100, **config).cuda()\n",
    "    train_times = []\n",
    "    sampling_times = []\n",
    "    for seq_length in lengths_list:\n",
    "        train_times.append(bench_training(model, batch_size, seq_length))\n",
    "        sampling_times.append(bench_sampling(model, batch_size, seq_length))\n",
    "        print(f\"{model_type}, seq_length = {seq_length:4d}: train_time = {train_times[-1].mean():.2f}ms, sampling_time = {sampling_times[-1].mean():.2f}ms\")\n",
    "    train_times = np.array(train_times)\n",
    "    sampling_times = np.array(sampling_times)\n",
    "    train_results[model_type] = train_times\n",
    "    sampling_results[model_type] = sampling_times\n",
    "    del model"
   ]
  },
  {
   "cell_type": "code",
   "execution_count": 9,
   "metadata": {},
   "outputs": [],
   "source": [
    "# The numbers printed above were collected as other jobs were running on this machine\n",
    "# so they might not exactly match the correct numbers that can be seen in the paper"
   ]
  },
  {
   "cell_type": "code",
   "execution_count": 7,
   "metadata": {},
   "outputs": [
    {
     "data": {
      "image/png": "[encoded data removed]",
      "text/plain": [
       "<Figure size 432x288 with 1 Axes>"
      ]
     },
     "metadata": {
      "needs_background": "light"
     },
     "output_type": "display_data"
    }
   ],
   "source": [
    "# Discard 10 slowest runtimes to remove the outliers (e.g. obtained during initialization)\n",
    "tritpp_train_times = [np.mean(sorted(t)[:-10]) for t in train_results['TriTPP']]\n",
    "rnn_train_times = [np.mean(sorted(t)[:-10]) for t in train_results['Autoregressive']]\n",
    "\n",
    "plt.plot(lengths_list, rnn_train_times, label='RNN', marker='x')\n",
    "plt.plot(lengths_list, tritpp_train_times, label='TriTPP', marker='x')\n",
    "plt.loglog(True)\n",
    "plt.legend()\n",
    "plt.ylim(0.8, 110)\n",
    "plt.xlabel('Sequence length')\n",
    "plt.ylabel('Training iteration time, ms')\n",
    "plt.show()"
   ]
  },
  {
   "cell_type": "code",
   "execution_count": 8,
   "metadata": {},
   "outputs": [
    {
     "data": {
      "image/png": "[encoded data removed]",
      "text/plain": [
       "<Figure size 432x288 with 1 Axes>"
      ]
     },
     "metadata": {
      "needs_background": "light"
     },
     "output_type": "display_data"
    }
   ],
   "source": [
    "# Discard 10 slowest runtimes to remove the outliers (e.g. obtained during initialization)\n",
    "tritpp_sampling_times = [np.mean(sorted(t)[:-10]) for t in sampling_results['TriTPP']]\n",
    "rnn_sampling_times = [np.mean(sorted(t)[:-10]) for t in sampling_results['Autoregressive']]\n",
    "\n",
    "plt.plot(lengths_list, rnn_sampling_times, label='RNN', marker='x')\n",
    "plt.plot(lengths_list, tritpp_sampling_times, label='TriTPP', marker='x')\n",
    "plt.loglog(True)\n",
    "plt.legend()\n",
    "plt.ylim(10, 4000)\n",
    "plt.xlabel('Sequence length')\n",
    "plt.ylabel('Sampling time, ms')\n",
    "plt.show()"
   ]
  }
 ],
 "metadata": {
  "kernelspec": {
   "display_name": "Python 3",
   "language": "python",
   "name": "python3"
  },
  "language_info": {
   "codemirror_mode": {
    "name": "ipython",
    "version": 3
   },
   "file_extension": ".py",
   "mimetype": "text/x-python",
   "name": "python",
   "nbconvert_exporter": "python",
   "pygments_lexer": "ipython3",
   "version": "3.7.7"
  },
  "toc": {
   "base_numbering": 1,
   "nav_menu": {},
   "number_sections": true,
   "sideBar": true,
   "skip_h1_title": false,
   "title_cell": "Table of Contents",
   "title_sidebar": "Contents",
   "toc_cell": false,
   "toc_position": {},
   "toc_section_display": true,
   "toc_window_display": false
  }
 },
 "nbformat": 4,
 "nbformat_minor": 4
}
