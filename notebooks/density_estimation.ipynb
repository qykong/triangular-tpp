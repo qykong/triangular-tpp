{
 "cells": [
  {
   "cell_type": "markdown",
   "metadata": {},
   "source": [
    "# Training\n",
    "This notebook contains sample code to show how to train a model step by step. A full training script is available in `scripts/experiment.py`."
   ]
  },
  {
   "cell_type": "code",
   "execution_count": 1,
   "metadata": {},
   "outputs": [],
   "source": [
    "%load_ext autoreload\n",
    "%autoreload 2\n",
    "import numpy as np\n",
    "import seaborn as sns\n",
    "import time\n",
    "import torch\n",
    "import tqdm.auto as tqdm\n",
    "import ttpp\n",
    "\n",
    "from copy import deepcopy\n",
    "sns.set_style('whitegrid')\n",
    "# Comment this line out if no GPU is available\n",
    "torch.set_default_tensor_type('torch.cuda.FloatTensor')"
   ]
  },
  {
   "cell_type": "markdown",
   "metadata": {},
   "source": [
    "### Load a dataset and split it\n",
    "Available datasets can be returned by `ttpp.data.list_datasets()`"
   ]
  },
  {
   "cell_type": "code",
   "execution_count": 2,
   "metadata": {},
   "outputs": [],
   "source": [
    "dset = ttpp.data.load_dataset('taxi')\n",
    "d_train, d_val, d_test = dset.train_val_test_split(train_size=0.6, val_size=0.2, test_size=0.2)\n",
    "dl_train = torch.utils.data.DataLoader(d_train, batch_size=len(d_train), shuffle=False)\n",
    "dl_val = torch.utils.data.DataLoader(d_val, batch_size=len(d_val), shuffle=False)\n",
    "dl_test = torch.utils.data.DataLoader(d_test, batch_size=len(d_test), shuffle=False)"
   ]
  },
  {
   "cell_type": "markdown",
   "metadata": {},
   "source": [
    "### Init a model\n",
    "Change your model parameters here or use a different model like `ttpp.models.Autoregressive` for the RNN model."
   ]
  },
  {
   "cell_type": "code",
   "execution_count": 3,
   "metadata": {},
   "outputs": [],
   "source": [
    "model = ttpp.models.TriTPP(dset.t_max,  # Keep this as is\n",
    "                           lambda_init=d_train.mean_number_items,  # Keep this as is\n",
    "                           n_knots=10, \n",
    "                           n_blocks=2, \n",
    "                           block_size=4)"
   ]
  },
  {
   "cell_type": "markdown",
   "metadata": {},
   "source": [
    "### Training"
   ]
  },
  {
   "cell_type": "code",
   "execution_count": 4,
   "metadata": {},
   "outputs": [],
   "source": [
    "# Optimization params\n",
    "max_epoch = 5000\n",
    "learning_rate = 0.01\n",
    "weight_decay = 1e-5\n",
    "threshold = 1e-4\n",
    "patience = 100"
   ]
  },
  {
   "cell_type": "code",
   "execution_count": 5,
   "metadata": {},
   "outputs": [],
   "source": [
    "opt = torch.optim.Adam(model.parameters(), lr=learning_rate, weight_decay=weight_decay)\n",
    "lr_scheduler = torch.optim.lr_scheduler.ReduceLROnPlateau(opt, factor=0.5, patience=100, verbose=True)"
   ]
  },
  {
   "cell_type": "code",
   "execution_count": 6,
   "metadata": {},
   "outputs": [
    {
     "data": {
      "application/vnd.jupyter.widget-view+json": {
       "model_id": "31d9168256e340b4ab392584e13e5ca6",
       "version_major": 2,
       "version_minor": 0
      },
      "text/plain": [
       "HBox(children=(FloatProgress(value=0.0, max=5000.0), HTML(value='')))"
      ]
     },
     "metadata": {},
     "output_type": "display_data"
    },
    {
     "name": "stdout",
     "output_type": "stream",
     "text": [
      "Breaking due to early stopping at epoch 220\n",
      "\n"
     ]
    }
   ],
   "source": [
    "losses = []\n",
    "val_losses = []\n",
    "best_loss, best_train = np.inf, np.inf\n",
    "best_model = deepcopy(model)\n",
    "with tqdm.trange(max_epoch) as progress:\n",
    "    for epoch in progress:\n",
    "        # Optimization\n",
    "        model.train()\n",
    "        for x, mask in dl_train:\n",
    "            opt.zero_grad()\n",
    "            loss = -(model.log_prob(x, mask)/d_train.mean_number_items).mean()\n",
    "            loss.backward()\n",
    "            opt.step()\n",
    "            \n",
    "        loss = loss.item()\n",
    "        losses.append(loss)\n",
    "\n",
    "        lr_scheduler.step(loss)\n",
    "        \n",
    "        # Validation\n",
    "        x, mask = next(iter(dl_val))\n",
    "        val_loss = -(model.log_prob(x, mask)/d_train.mean_number_items).mean().item()\n",
    "        val_losses.append(val_loss)\n",
    "        \n",
    "        # Early stopping\n",
    "        if (best_loss - val_loss) < threshold:\n",
    "            impatient += 1\n",
    "            if val_loss < best_loss:\n",
    "                best_train, best_loss = loss, val_loss\n",
    "                best_model = deepcopy(model)\n",
    "        else:\n",
    "            best_train, best_loss = loss, val_loss\n",
    "            best_model = deepcopy(model)\n",
    "            impatient = 0\n",
    "\n",
    "        if impatient >= patience:\n",
    "            print(f'Breaking due to early stopping at epoch {epoch}')\n",
    "            break\n",
    "        \n",
    "        # Progress update\n",
    "        progress.set_postfix({\n",
    "            'Loss': loss,\n",
    "            'Val loss': val_loss\n",
    "        })"
   ]
  },
  {
   "cell_type": "code",
   "execution_count": 7,
   "metadata": {},
   "outputs": [
    {
     "data": {
      "image/png": "[encoded data removed]",
      "text/plain": [
       "<Figure size 432x288 with 1 Axes>"
      ]
     },
     "metadata": {},
     "output_type": "display_data"
    }
   ],
   "source": [
    "import matplotlib.pyplot as plt\n",
    "plt.plot(losses)\n",
    "plt.plot(val_losses)\n",
    "plt.title('Optimization progress')\n",
    "plt.xlabel('Iteration')\n",
    "plt.ylabel('NLL')\n",
    "plt.legend(['Training', 'Validation'])\n",
    "plt.show()"
   ]
  },
  {
   "cell_type": "markdown",
   "metadata": {},
   "source": [
    "# MMD"
   ]
  },
  {
   "cell_type": "code",
   "execution_count": 8,
   "metadata": {},
   "outputs": [
    {
     "name": "stdout",
     "output_type": "stream",
     "text": [
      "MMD 0.09285936393907232\n"
     ]
    }
   ],
   "source": [
    "# More samples increase the accuracy of MMD but increase computational complexity quadratically\n",
    "n_samples = 4000\n",
    "# Sample from the model \n",
    "# pick max_seq_len large enough to make sure that the [0, T] interval is covered\n",
    "max_seq_len = 10 * d_train.times.shape[1] \n",
    "with torch.no_grad():\n",
    "    X = model.rsample(n_samples, init_seq_len=200).clamp(max=dset.t_max).cpu().numpy()\n",
    "# You may cahnge dl_val to dl_test to get results for the test_set\n",
    "Y = next(iter(dl_val))[0].detach().cpu().numpy()\n",
    "# Compute the MMD\n",
    "mmd, sigma = ttpp.metrics.MMD(X, Y, dset.t_max)\n",
    "print('MMD', mmd)"
   ]
  }
 ],
 "metadata": {
  "kernelspec": {
   "display_name": "Python [conda env:torch] *",
   "language": "python",
   "name": "conda-env-torch-py"
  },
  "language_info": {
   "codemirror_mode": {
    "name": "ipython",
    "version": 3
   },
   "file_extension": ".py",
   "mimetype": "text/x-python",
   "name": "python",
   "nbconvert_exporter": "python",
   "pygments_lexer": "ipython3",
   "version": "3.7.7"
  },
  "toc": {
   "base_numbering": 1,
   "nav_menu": {},
   "number_sections": true,
   "sideBar": true,
   "skip_h1_title": false,
   "title_cell": "Table of Contents",
   "title_sidebar": "Contents",
   "toc_cell": false,
   "toc_position": {},
   "toc_section_display": true,
   "toc_window_display": false
  }
 },
 "nbformat": 4,
 "nbformat_minor": 4
}
